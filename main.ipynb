{
 "cells": [
  {
   "cell_type": "code",
   "execution_count": 31,
   "metadata": {},
   "outputs": [],
   "source": [
    "from sklearn.mixture import GaussianMixture as GMM\n",
    "from shutil import copy\n",
    "import pandas as pd\n",
    "import numpy as np\n",
    "import glob\n",
    "import cv2\n",
    "import os"
   ]
  },
  {
   "cell_type": "code",
   "execution_count": 3,
   "metadata": {},
   "outputs": [
    {
     "name": "stdout",
     "output_type": "stream",
     "text": [
      "The number of images :  100\n",
      "(10000,)\n"
     ]
    }
   ],
   "source": [
    "link = \"images/*.jpg\"\n",
    "dataset_paths = glob.glob(link)\n",
    "images = {}\n",
    "\n",
    "for image_path in dataset_paths:\n",
    "    img = cv2.imread(image_path)\n",
    "    img = cv2.resize(img, (100, 100), interpolation=cv2.INTER_AREA)\n",
    "    img = cv2.cvtColor(img, cv2.COLOR_RGB2GRAY)\n",
    "    images[image_path] = img.flatten();\n",
    "\n",
    "print(\"The number of images : \", len(images))\n",
    "print(images.get(\"images/1_1.jpg\").shape)"
   ]
  },
  {
   "cell_type": "code",
   "execution_count": 4,
   "metadata": {},
   "outputs": [
    {
     "data": {
      "text/html": [
       "<div>\n",
       "<style scoped>\n",
       "    .dataframe tbody tr th:only-of-type {\n",
       "        vertical-align: middle;\n",
       "    }\n",
       "\n",
       "    .dataframe tbody tr th {\n",
       "        vertical-align: top;\n",
       "    }\n",
       "\n",
       "    .dataframe thead th {\n",
       "        text-align: right;\n",
       "    }\n",
       "</style>\n",
       "<table border=\"1\" class=\"dataframe\">\n",
       "  <thead>\n",
       "    <tr style=\"text-align: right;\">\n",
       "      <th></th>\n",
       "      <th>images</th>\n",
       "    </tr>\n",
       "  </thead>\n",
       "  <tbody>\n",
       "    <tr>\n",
       "      <th>images/36_4.jpg</th>\n",
       "      <td>[95, 101, 105, 102, 105, 104, 99, 102, 105, 10...</td>\n",
       "    </tr>\n",
       "    <tr>\n",
       "      <th>images/34_4.jpg</th>\n",
       "      <td>[89, 100, 108, 103, 104, 104, 103, 105, 104, 1...</td>\n",
       "    </tr>\n",
       "    <tr>\n",
       "      <th>images/20_2.jpg</th>\n",
       "      <td>[25, 29, 32, 30, 31, 32, 33, 30, 31, 32, 31, 3...</td>\n",
       "    </tr>\n",
       "    <tr>\n",
       "      <th>images/95_10.jpg</th>\n",
       "      <td>[101, 113, 121, 113, 112, 112, 113, 116, 116, ...</td>\n",
       "    </tr>\n",
       "    <tr>\n",
       "      <th>images/47_5.jpg</th>\n",
       "      <td>[98, 111, 119, 109, 111, 113, 114, 114, 114, 1...</td>\n",
       "    </tr>\n",
       "  </tbody>\n",
       "</table>\n",
       "</div>"
      ],
      "text/plain": [
       "                                                             images\n",
       "images/36_4.jpg   [95, 101, 105, 102, 105, 104, 99, 102, 105, 10...\n",
       "images/34_4.jpg   [89, 100, 108, 103, 104, 104, 103, 105, 104, 1...\n",
       "images/20_2.jpg   [25, 29, 32, 30, 31, 32, 33, 30, 31, 32, 31, 3...\n",
       "images/95_10.jpg  [101, 113, 121, 113, 112, 112, 113, 116, 116, ...\n",
       "images/47_5.jpg   [98, 111, 119, 109, 111, 113, 114, 114, 114, 1..."
      ]
     },
     "execution_count": 4,
     "metadata": {},
     "output_type": "execute_result"
    }
   ],
   "source": [
    "df = pd.DataFrame([[sample] for _, sample in images.items()])\n",
    "df.columns = [\"images\"]\n",
    "df.index = images.keys()\n",
    "df.head()"
   ]
  },
  {
   "cell_type": "code",
   "execution_count": 8,
   "metadata": {},
   "outputs": [
    {
     "name": "stdout",
     "output_type": "stream",
     "text": [
      "(100, 10000)\n"
     ]
    }
   ],
   "source": [
    "data = np.array(list(df[\"images\"]))\n",
    "print(data.shape)"
   ]
  },
  {
   "cell_type": "code",
   "execution_count": 47,
   "metadata": {},
   "outputs": [],
   "source": [
    "n_components = 4\n",
    "gmm_model = GMM(n_components=n_components, covariance_type='tied')\n",
    "gmm_model.fit(data)\n",
    "gmm_labels = gmm_model.predict(data)"
   ]
  },
  {
   "cell_type": "code",
   "execution_count": 10,
   "metadata": {},
   "outputs": [
    {
     "data": {
      "text/html": [
       "<div>\n",
       "<style scoped>\n",
       "    .dataframe tbody tr th:only-of-type {\n",
       "        vertical-align: middle;\n",
       "    }\n",
       "\n",
       "    .dataframe tbody tr th {\n",
       "        vertical-align: top;\n",
       "    }\n",
       "\n",
       "    .dataframe thead th {\n",
       "        text-align: right;\n",
       "    }\n",
       "</style>\n",
       "<table border=\"1\" class=\"dataframe\">\n",
       "  <thead>\n",
       "    <tr style=\"text-align: right;\">\n",
       "      <th></th>\n",
       "      <th>images</th>\n",
       "      <th>cluster</th>\n",
       "    </tr>\n",
       "  </thead>\n",
       "  <tbody>\n",
       "    <tr>\n",
       "      <th>images/36_4.jpg</th>\n",
       "      <td>[95, 101, 105, 102, 105, 104, 99, 102, 105, 10...</td>\n",
       "      <td>1</td>\n",
       "    </tr>\n",
       "    <tr>\n",
       "      <th>images/34_4.jpg</th>\n",
       "      <td>[89, 100, 108, 103, 104, 104, 103, 105, 104, 1...</td>\n",
       "      <td>1</td>\n",
       "    </tr>\n",
       "    <tr>\n",
       "      <th>images/20_2.jpg</th>\n",
       "      <td>[25, 29, 32, 30, 31, 32, 33, 30, 31, 32, 31, 3...</td>\n",
       "      <td>2</td>\n",
       "    </tr>\n",
       "    <tr>\n",
       "      <th>images/95_10.jpg</th>\n",
       "      <td>[101, 113, 121, 113, 112, 112, 113, 116, 116, ...</td>\n",
       "      <td>0</td>\n",
       "    </tr>\n",
       "    <tr>\n",
       "      <th>images/47_5.jpg</th>\n",
       "      <td>[98, 111, 119, 109, 111, 113, 114, 114, 114, 1...</td>\n",
       "      <td>1</td>\n",
       "    </tr>\n",
       "  </tbody>\n",
       "</table>\n",
       "</div>"
      ],
      "text/plain": [
       "                                                             images  cluster\n",
       "images/36_4.jpg   [95, 101, 105, 102, 105, 104, 99, 102, 105, 10...        1\n",
       "images/34_4.jpg   [89, 100, 108, 103, 104, 104, 103, 105, 104, 1...        1\n",
       "images/20_2.jpg   [25, 29, 32, 30, 31, 32, 33, 30, 31, 32, 31, 3...        2\n",
       "images/95_10.jpg  [101, 113, 121, 113, 112, 112, 113, 116, 116, ...        0\n",
       "images/47_5.jpg   [98, 111, 119, 109, 111, 113, 114, 114, 114, 1...        1"
      ]
     },
     "execution_count": 10,
     "metadata": {},
     "output_type": "execute_result"
    }
   ],
   "source": [
    "df[\"cluster\"] = gmm_labels\n",
    "\n",
    "df.head()"
   ]
  },
  {
   "cell_type": "code",
   "execution_count": 32,
   "metadata": {},
   "outputs": [],
   "source": [
    "for index, row in df.iterrows():\n",
    "    source = index\n",
    "    distination = \"{}/{}/\".format(\"result\", row.get(\"cluster\"))\n",
    "    \n",
    "    if not os.path.exists(distination):\n",
    "        os.makedirs(distination)\n",
    "    \n",
    "    copy(source, distination)"
   ]
  },
  {
   "cell_type": "code",
   "execution_count": 61,
   "metadata": {},
   "outputs": [
    {
     "data": {
      "image/png": "[encoded data removed]",
      "text/plain": [
       "<Figure size 1152x720 with 1 Axes>"
      ]
     },
     "metadata": {},
     "output_type": "display_data"
    }
   ],
   "source": [
    "distributions = pd.DataFrame(list(df[\"cluster\"].value_counts()), index=[\"person {}\".format(i) for i in range(n_components)])\n",
    "distributions.plot.pie(\n",
    "    figsize=(16, 10),\n",
    "    autopct=\"%.2f\",\n",
    "    subplots=True)\n",
    "pass"
   ]
  }
 ],
 "metadata": {
  "interpreter": {
   "hash": "31f2aee4e71d21fbe5cf8b01ff0e069b9275f58929596ceb00d14d90e3e16cd6"
  },
  "kernelspec": {
   "display_name": "Python 3.7.3 64-bit",
   "language": "python",
   "name": "python3"
  },
  "language_info": {
   "codemirror_mode": {
    "name": "ipython",
    "version": 3
   },
   "file_extension": ".py",
   "mimetype": "text/x-python",
   "name": "python",
   "nbconvert_exporter": "python",
   "pygments_lexer": "ipython3",
   "version": "3.7.3"
  },
  "orig_nbformat": 4
 },
 "nbformat": 4,
 "nbformat_minor": 2
}
